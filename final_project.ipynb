{
  "nbformat": 4,
  "nbformat_minor": 0,
  "metadata": {
    "colab": {
      "provenance": []
    },
    "kernelspec": {
      "name": "python3",
      "display_name": "Python 3"
    },
    "language_info": {
      "name": "python"
    }
  },
  "cells": [
    {
      "cell_type": "markdown",
      "metadata": {
        "id": "2q0tbRJr4b6d"
      },
      "source": [
        "#libraries"
      ]
    },
    {
      "cell_type": "code",
      "metadata": {
        "colab": {
          "base_uri": "https://localhost:8080/"
        },
        "id": "kqaFcEq4v2mL",
        "outputId": "6cb7e607-04e9-4835-bee9-df7b75ba3b8e"
      },
      "source": [
        "!pip install libtiff\n",
        "!pip install scipy==1.1.0\n",
        "!pip install future\n",
        "import PIL\n",
        "from PIL import Image\n",
        "import matplotlib.pyplot as plt\n",
        "from libtiff import TIFF\n",
        "from libtiff import TIFFfile, TIFFimage\n",
        "from tensorflow.keras.layers import Conv2D\n",
        "from scipy.misc import imresize\n",
        "import numpy as np\n",
        "import math\n",
        "import glob\n",
        "import cv2\n",
        "import os\n",
        "import skimage.io as io\n",
        "import skimage.transform as trans\n",
        "from keras.models import *\n",
        "from keras.layers import *\n",
        "from keras.optimizers import *\n",
        "from sklearn.metrics import confusion_matrix, cohen_kappa_score\n",
        "from keras.callbacks import ModelCheckpoint, LearningRateScheduler\n",
        "from keras.preprocessing.image import ImageDataGenerator\n",
        "from keras import backend as keras\n",
        "from scipy.misc import imsave\n",
        "from keras import backend as K"
      ],
      "execution_count": null,
      "outputs": [
        {
          "output_type": "stream",
          "text": [
            "Requirement already satisfied: libtiff in /usr/local/lib/python3.7/dist-packages (0.4.2)\n",
            "Requirement already satisfied: scipy==1.1.0 in /usr/local/lib/python3.7/dist-packages (1.1.0)\n",
            "Requirement already satisfied: numpy>=1.8.2 in /usr/local/lib/python3.7/dist-packages (from scipy==1.1.0) (1.19.5)\n",
            "Requirement already satisfied: future in /usr/local/lib/python3.7/dist-packages (0.16.0)\n"
          ],
          "name": "stdout"
        }
      ]
    },
    {
      "cell_type": "markdown",
      "metadata": {
        "id": "6TtcKEsi4nmE"
      },
      "source": [
        "#Reading the images"
      ]
    },
    {
      "cell_type": "code",
      "metadata": {
        "id": "MI7NZT3IxUJd"
      },
      "source": [
        "# To read the images in numerical order\n",
        "import re\n",
        "numbers = re.compile(r'(\\d+)')\n",
        "def numericalSort(value):\n",
        "    parts = numbers.split(value)\n",
        "    parts[1::2] = map(int, parts[1::2])\n",
        "    return parts"
      ],
      "execution_count": null,
      "outputs": []
    },
    {
      "cell_type": "code",
      "metadata": {
        "id": "PDykaC6uVabc"
      },
      "source": [
        "from google.colab import drive\n",
        "drive.mount('/content/drive')"
      ],
      "execution_count": null,
      "outputs": []
    },
    {
      "cell_type": "code",
      "metadata": {
        "id": "Cmq6Eto-xinu"
      },
      "source": [
        "# List of file names of actual Satellite images for traininig\n",
        "filelist_trainx = sorted(glob.glob('/content/drive/My Drive/dataset/sat/*.tif'), key=numericalSort)\n",
        "# List of file names of classified images for traininig\n",
        "filelist_trainy = sorted(glob.glob('/content/drive/My Drive/dataset/gt/*.tif'), key=numericalSort)\n",
        "\n",
        "# List of file names of actual Satellite images for testing\n",
        "filelist_testx = sorted(glob.glob('/content/drive/My Drive/dataset/sat_test/*.tif'), key=numericalSort)"
      ],
      "execution_count": null,
      "outputs": []
    },
    {
      "cell_type": "code",
      "metadata": {
        "colab": {
          "base_uri": "https://localhost:8080/"
        },
        "id": "5zAVPdme77OW",
        "outputId": "d476a39f-a844-4f18-91d3-b14188332a52"
      },
      "source": [
        "print(filelist_testx)"
      ],
      "execution_count": null,
      "outputs": [
        {
          "output_type": "stream",
          "text": [
            "['/content/drive/My Drive/dataset/sat_test/1.tif', '/content/drive/My Drive/dataset/sat_test/2.tif', '/content/drive/My Drive/dataset/sat_test/3.tif', '/content/drive/My Drive/dataset/sat_test/4.tif', '/content/drive/My Drive/dataset/sat_test/5.tif', '/content/drive/My Drive/dataset/sat_test/6.tif']\n"
          ],
          "name": "stdout"
        }
      ]
    },
    {
      "cell_type": "markdown",
      "metadata": {
        "id": "ur8PEImj4uZx"
      },
      "source": [
        "#Preprocessing"
      ]
    },
    {
      "cell_type": "markdown",
      "metadata": {
        "id": "JHTd2bWZ4y8I"
      },
      "source": [
        "#### Resizing the image to nearest dimensions multipls of 'stride'"
      ]
    },
    {
      "cell_type": "code",
      "metadata": {
        "id": "edzNizFz8IWp"
      },
      "source": [
        " def resize(img, stride, n_h, n_w):\n",
        "    #h,l,_= img.shape\n",
        "    ne_h = (n_h*stride) + stride\n",
        "    ne_w = (n_w*stride) + stride\n",
        "\n",
        "    img_resized = imresize(img, (ne_h,ne_w))\n",
        "    return img_resized"
      ],
      "execution_count": null,
      "outputs": []
    },
    {
      "cell_type": "markdown",
      "metadata": {
        "id": "m1-uEg-R4200"
      },
      "source": [
        "#### Padding at the bottem and at the left of images to be able to crop them into 128*128 images for training"
      ]
    },
    {
      "cell_type": "code",
      "metadata": {
        "id": "U9hnhdEv8QTg"
      },
      "source": [
        "def padding(img, w, h, c, crop_size, stride, n_h, n_w):\n",
        "\n",
        "    w_extra = w - ((n_w-1)*stride)\n",
        "    w_toadd = crop_size - w_extra\n",
        "\n",
        "    h_extra = h - ((n_h-1)*stride)\n",
        "    h_toadd = crop_size - h_extra\n",
        "\n",
        "    img_pad = np.zeros(((h+h_toadd), (w+w_toadd), c))\n",
        "    #img_pad[:h, :w,:] = img\n",
        "    #img_pad = img_pad+img\n",
        "    img_pad = np.pad(img, [(0, h_toadd), (0, w_toadd), (0,0)], mode='constant')\n",
        "\n",
        "    return img_pad"
      ],
      "execution_count": null,
      "outputs": []
    },
    {
      "cell_type": "markdown",
      "metadata": {
        "id": "haty_cIQ47N7"
      },
      "source": [
        "#### Adding pixels to make the image with shape in multiples of stride"
      ]
    },
    {
      "cell_type": "code",
      "metadata": {
        "id": "eijOTe2S8ZXy"
      },
      "source": [
        "def add_pixals(img, h, w, c, n_h, n_w, crop_size, stride):\n",
        "\n",
        "    w_extra = w - ((n_w-1)*stride)\n",
        "    w_toadd = crop_size - w_extra\n",
        "\n",
        "    h_extra = h - ((n_h-1)*stride)\n",
        "    h_toadd = crop_size - h_extra\n",
        "\n",
        "    img_add = np.zeros(((h+h_toadd), (w+w_toadd), c))\n",
        "\n",
        "    img_add[:h, :w,:] = img\n",
        "    img_add[h:, :w,:] = img[:h_toadd,:, :]\n",
        "    img_add[:h,w:,:] = img[:,:w_toadd,:]\n",
        "    img_add[h:,w:,:] = img[h-h_toadd:h,w-w_toadd:w,:]\n",
        "\n",
        "    return img_add"
      ],
      "execution_count": null,
      "outputs": []
    },
    {
      "cell_type": "markdown",
      "metadata": {
        "id": "DMTN60bi4-y1"
      },
      "source": [
        "#### Slicing the image into crop_size*crop_size crops with a stride of 32 and makking list out of them"
      ]
    },
    {
      "cell_type": "code",
      "metadata": {
        "id": "LLCzCALo8fxF"
      },
      "source": [
        "def crops(a, crop_size = 128):\n",
        "\n",
        "    #stride = int(crop_size/2)\n",
        "    stride = 32\n",
        "\n",
        "    croped_images = []\n",
        "    h, w, c = a.shape\n",
        "\n",
        "    n_h = int(int(h/stride))\n",
        "    n_w = int(int(w/stride))\n",
        "\n",
        "    # Padding using the padding function we wrote\n",
        "    a = padding(a, w, h, c, crop_size, stride, n_h, n_w)\n",
        "    for i in range(n_h-1):\n",
        "        for j in range(n_w-1):\n",
        "            crop_x = a[(i*stride):((i*stride)+crop_size), (j*stride):((j*stride)+crop_size), :]\n",
        "            croped_images.append(crop_x)\n",
        "    return croped_images\n",
        "    print(i)"
      ],
      "execution_count": null,
      "outputs": []
    },
    {
      "cell_type": "markdown",
      "metadata": {
        "id": "i3hyNhaZ5CCv"
      },
      "source": [
        "#### Reading, padding, cropping and making array of all the cropped images of all the trainig sat images"
      ]
    },
    {
      "cell_type": "code",
      "metadata": {
        "id": "WMKqiCQ68-yx"
      },
      "source": [
        "trainx_list = []\n",
        "\n",
        "for fname in filelist_trainx[:13]:\n",
        "\n",
        "    # Reading the image\n",
        "    tif = TIFF.open(fname)\n",
        "    image = tif.read_image()\n",
        "\n",
        "    # Padding as required and cropping\n",
        "    crops_list = crops(image)\n",
        "    #print(len(crops_list))\n",
        "    trainx_list = trainx_list + crops_list\n",
        "\n",
        "# Array of all the cropped Training sat Images\n",
        "trainx = np.asarray(trainx_list)"
      ],
      "execution_count": null,
      "outputs": []
    },
    {
      "cell_type": "markdown",
      "metadata": {
        "id": "mc-pRTFX5Fcu"
      },
      "source": [
        "#### Reading, padding, cropping and making array of all the cropped images of all the trainig gt images"
      ]
    },
    {
      "cell_type": "code",
      "metadata": {
        "colab": {
          "base_uri": "https://localhost:8080/"
        },
        "id": "vt1efgYr9CJs",
        "outputId": "d7929865-c55d-4d53-e011-afade48ab41a"
      },
      "source": [
        "#print(libtiff.__version__)\n",
        "trainy_list = []\n",
        "\n",
        "for fname in filelist_trainy[:13]:\n",
        "\n",
        "    # Reading the image\n",
        "    print(fname)\n",
        "    image = TIFF.open(fname).read_image()\n",
        "    #image = tif.read_image()\n",
        "\n",
        "    # Padding as required and cropping\n",
        "    crops_list =crops(image)\n",
        "\n",
        "    trainy_list = trainy_list + crops_list\n",
        "\n",
        "# Array of all the cropped Training gt Images\n",
        "trainy = np.asarray(trainy_list)"
      ],
      "execution_count": null,
      "outputs": [
        {
          "output_type": "stream",
          "text": [
            "/content/drive/My Drive/dataset/gt/1.tif\n",
            "/content/drive/My Drive/dataset/gt/2.tif\n",
            "/content/drive/My Drive/dataset/gt/3.tif\n",
            "/content/drive/My Drive/dataset/gt/4.tif\n",
            "/content/drive/My Drive/dataset/gt/5.tif\n",
            "/content/drive/My Drive/dataset/gt/6.tif\n",
            "/content/drive/My Drive/dataset/gt/7.tif\n",
            "/content/drive/My Drive/dataset/gt/8.tif\n",
            "/content/drive/My Drive/dataset/gt/9.tif\n",
            "/content/drive/My Drive/dataset/gt/10.tif\n",
            "/content/drive/My Drive/dataset/gt/11.tif\n",
            "/content/drive/My Drive/dataset/gt/12.tif\n",
            "/content/drive/My Drive/dataset/gt/13.tif\n"
          ],
          "name": "stdout"
        }
      ]
    },
    {
      "cell_type": "markdown",
      "metadata": {
        "id": "ZT9VyH0m5KB9"
      },
      "source": [
        "#### Reading, padding, cropping and making array of all the cropped images of all the testing sat images\n"
      ]
    },
    {
      "cell_type": "code",
      "metadata": {
        "id": "F8w8JElL9K9l"
      },
      "source": [
        "testx_list = []\n",
        "\n",
        "#for fname in filelist_trainx[3]:\n",
        "\n",
        "    # Reading the image\n",
        "tif = TIFF.open(filelist_trainx[13])\n",
        "image = tif.read_image()\n",
        "\n",
        "# Padding as required and cropping\n",
        "crops_list = crops(image)\n",
        "\n",
        "testx_list = testx_list + crops_list\n",
        "\n",
        "# Array of all the cropped Testing sat Images\n",
        "testx = np.asarray(testx_list)"
      ],
      "execution_count": null,
      "outputs": []
    },
    {
      "cell_type": "markdown",
      "metadata": {
        "id": "67rVUZRQ5MHg"
      },
      "source": [
        "#### Reading, padding, cropping and making array of all the cropped images of all the testing sat images\n"
      ]
    },
    {
      "cell_type": "code",
      "metadata": {
        "id": "g03Mifi99QeT"
      },
      "source": [
        "testy_list = []\n",
        "\n",
        "# Reading the image\n",
        "tif = TIFF.open(filelist_trainy[13])\n",
        "image = tif.read_image()\n",
        "# Padding as required and cropping\n",
        "crops_list = crops(image)\n",
        "\n",
        "testy_list = testy_list + crops_list\n",
        "\n",
        "# Array of all the cropped Testing sat Images\n",
        "testy = np.asarray(testy_list)"
      ],
      "execution_count": null,
      "outputs": []
    },
    {
      "cell_type": "markdown",
      "metadata": {
        "id": "WjWnr0K_5PRg"
      },
      "source": [
        "#### Making array of all the training sat images as it is without any cropping\n"
      ]
    },
    {
      "cell_type": "code",
      "metadata": {
        "id": "quZSv_6L9UAH",
        "colab": {
          "base_uri": "https://localhost:8080/"
        },
        "outputId": "042fbd33-4031-4f54-f921-4165e2982ae8"
      },
      "source": [
        "xtrain_list = []\n",
        "\n",
        "for fname in filelist_trainx:\n",
        "\n",
        "    # Reading the image\n",
        "    tif = TIFF.open(fname)\n",
        "    image = tif.read_image()\n",
        "\n",
        "    crop_size = 128\n",
        "\n",
        "    stride = 64\n",
        "\n",
        "    h, w, c = image.shape\n",
        "\n",
        "    n_h = int(int(h/stride))\n",
        "    n_w = int(int(w/stride))\n",
        "\n",
        "\n",
        "    image = padding(image, w, h, c, crop_size, stride, n_h, n_w)\n",
        "\n",
        "    xtrain_list.append(image)\n",
        "\n",
        "x_train = np.asarray(xtrain_list)\n",
        "tif = TIFF.open('/content/drive/My Drive/dataset/sat/4.tif')\n",
        "image = tif.read_image()\n",
        "crop_size = 128\n",
        "\n",
        "stride = 64\n",
        "h, w, c = image.shape\n",
        "\n",
        "n_h = int(int(h/stride))\n",
        "n_w = int(int(w/stride))\n",
        "\n",
        "\n",
        "image = padding(image, w, h, c, crop_size, stride, n_h, n_w)\n",
        "x_train = image"
      ],
      "execution_count": null,
      "outputs": [
        {
          "output_type": "stream",
          "text": [
            "/usr/local/lib/python3.7/dist-packages/numpy/core/_asarray.py:83: VisibleDeprecationWarning: Creating an ndarray from ragged nested sequences (which is a list-or-tuple of lists-or-tuples-or ndarrays with different lengths or shapes) is deprecated. If you meant to do this, you must specify 'dtype=object' when creating the ndarray\n",
            "  return array(a, dtype, copy=False, order=order)\n"
          ],
          "name": "stderr"
        }
      ]
    },
    {
      "cell_type": "markdown",
      "metadata": {
        "id": "LxH-1xKy5RxZ"
      },
      "source": [
        "#### Making array of all the training gt images as it is without any cropping\n"
      ]
    },
    {
      "cell_type": "code",
      "metadata": {
        "id": "AyT0BjE89Wad",
        "colab": {
          "base_uri": "https://localhost:8080/"
        },
        "outputId": "c8064e64-cfd2-4a99-8fb5-6badca4c0ae5"
      },
      "source": [
        "ytrain_list = []\n",
        "\n",
        "for fname in filelist_trainy:\n",
        "\n",
        "    # Reading the image\n",
        "    tif = TIFF.open(fname)\n",
        "    image = tif.read_image()\n",
        "\n",
        "    crop_size = 128\n",
        "\n",
        "    stride = 64\n",
        "\n",
        "    h, w, c = image.shape\n",
        "\n",
        "    n_h = int(int(h/stride))\n",
        "    n_w = int(int(w/stride))\n",
        "\n",
        "\n",
        "    image = padding(image, w, h, c, crop_size, stride, n_h, n_w)\n",
        "\n",
        "    ytrain_list.append(image)\n",
        "\n",
        "y_train = np.asarray(ytrain_list)\n",
        "\n",
        "\n",
        "tif = TIFF.open('/content/drive/My Drive/dataset/gt/4.tif')\n",
        "image = tif.read_image()\n",
        "crop_size = 128\n",
        "\n",
        "stride = 64\n",
        "\n",
        "h, w, c = image.shape\n",
        "\n",
        "n_h = int(int(h/stride))\n",
        "n_w = int(int(w/stride))\n",
        "\n",
        "\n",
        "image = padding(image, w, h, c, crop_size, stride, n_h, n_w)\n",
        "y_train = image"
      ],
      "execution_count": null,
      "outputs": [
        {
          "output_type": "stream",
          "text": [
            "/usr/local/lib/python3.7/dist-packages/numpy/core/_asarray.py:83: VisibleDeprecationWarning: Creating an ndarray from ragged nested sequences (which is a list-or-tuple of lists-or-tuples-or ndarrays with different lengths or shapes) is deprecated. If you meant to do this, you must specify 'dtype=object' when creating the ndarray\n",
            "  return array(a, dtype, copy=False, order=order)\n"
          ],
          "name": "stderr"
        }
      ]
    },
    {
      "cell_type": "markdown",
      "metadata": {
        "id": "mOyDkPxP5UNQ"
      },
      "source": [
        "#One hot encoding"
      ]
    },
    {
      "cell_type": "code",
      "metadata": {
        "id": "Zlmcr0eN9bxK"
      },
      "source": [
        "color_dict = {0: (0, 0, 0), #black=road\n",
        "              1: (0, 125, 0), #dark green=tree\n",
        "              2: (150, 80, 0), #brown= soil\n",
        "              3: (255, 255, 0), #yellow=rail\n",
        "              4: (100, 100, 100), #grey=buildings\n",
        "              5: (0, 255, 0), #green= field\n",
        "              6: (0, 0, 150), #blue=water\n",
        "              7: (150, 150, 255), #purple= swimming pool\n",
        "              8: (255, 255, 255)} #white=unclassified\n"
      ],
      "execution_count": null,
      "outputs": []
    },
    {
      "cell_type": "code",
      "metadata": {
        "id": "XyUSlaHt9e1E"
      },
      "source": [
        "def rgb_to_onehot(rgb_arr, color_dict):\n",
        "    num_classes = len(color_dict)\n",
        "    shape = rgb_arr.shape[:2]+(num_classes,)\n",
        "    #print(shape)\n",
        "    arr = np.zeros( shape, dtype=np.int8 )\n",
        "    for i, cls in enumerate(color_dict):\n",
        "        arr[:,:,i] = np.all(rgb_arr.reshape( (-1,3) ) == color_dict[i], axis=1).reshape(shape[:2])\n",
        "    return arr"
      ],
      "execution_count": null,
      "outputs": []
    },
    {
      "cell_type": "code",
      "metadata": {
        "id": "LbmStbdGuHeK"
      },
      "source": [
        "def onehot_to_rgb(onehot, color_dict):\n",
        "    single_layer = np.argmax(onehot, axis=-1)\n",
        "    output = np.zeros( onehot.shape[:2]+(3,) )\n",
        "    for k in color_dict.keys():\n",
        "        output[single_layer==k] = color_dict[k]\n",
        "    return np.uint8(output)"
      ],
      "execution_count": null,
      "outputs": []
    },
    {
      "cell_type": "code",
      "metadata": {
        "id": "_1JMTQ1FuKUv"
      },
      "source": [
        "# Convert trainy and testy into one hot encode\n",
        "\n",
        "trainy_hot = []\n",
        "\n",
        "for i in range(trainy.shape[0]):\n",
        "\n",
        "    hot_img = rgb_to_onehot(trainy[i], color_dict)\n",
        "\n",
        "    trainy_hot.append(hot_img)\n",
        "\n",
        "trainy_hot = np.asarray(trainy_hot)\n",
        "\n",
        "testy_hot = []\n",
        "\n",
        "for i in range(testy.shape[0]):\n",
        "\n",
        "    hot_img = rgb_to_onehot(testy[i], color_dict)\n",
        "\n",
        "    testy_hot.append(hot_img)\n",
        "\n",
        "testy_hot = np.asarray(testy_hot)"
      ],
      "execution_count": null,
      "outputs": []
    },
    {
      "cell_type": "markdown",
      "metadata": {
        "id": "zxTcNKhkubtF"
      },
      "source": [
        "#U-Net"
      ]
    },
    {
      "cell_type": "code",
      "metadata": {
        "id": "nOevhPKetj9Z"
      },
      "source": [
        "def unet(shape = (None,None,4)):\n",
        "\n",
        "    # Left side of the U-Net\n",
        "    inputs = Input(shape)\n",
        "#    in_shape = inputs.shape\n",
        "#    print(in_shape)\n",
        "    conv1 = Conv2D(64, 3, activation = 'relu', padding = 'same', kernel_initializer = 'random_normal')(inputs)\n",
        "    conv1 = Conv2D(64, 3, activation = 'relu', padding = 'same', kernel_initializer = 'random_normal')(conv1)\n",
        "    conv1 = BatchNormalization()(conv1)\n",
        "    pool1 = MaxPooling2D(pool_size=(2, 2))(conv1)\n",
        "    conv2 = Conv2D(128, 3, activation = 'relu', padding = 'same', kernel_initializer = 'random_normal')(pool1)\n",
        "    conv2 = Conv2D(128, 3, activation = 'relu', padding = 'same', kernel_initializer = 'random_normal')(conv2)\n",
        "    conv2 = BatchNormalization()(conv2)\n",
        "    pool2 = MaxPooling2D(pool_size=(2, 2))(conv2)\n",
        "    conv3 = Conv2D(256, 3, activation = 'relu', padding = 'same', kernel_initializer = 'random_normal')(pool2)\n",
        "    conv3 = Conv2D(256, 3, activation = 'relu', padding = 'same', kernel_initializer = 'random_normal')(conv3)\n",
        "    conv3 = BatchNormalization()(conv3)\n",
        "    pool3 = MaxPooling2D(pool_size=(2, 2))(conv3)\n",
        "    conv4 = Conv2D(512, 3, activation = 'relu', padding = 'same', kernel_initializer = 'random_normal')(pool3)\n",
        "    conv4 = Conv2D(512, 3, activation = 'relu', padding = 'same', kernel_initializer = 'random_normal')(conv4)\n",
        "    conv4 = BatchNormalization()(conv4)\n",
        "    drop4 = Dropout(0.5)(conv4)\n",
        "    pool4 = MaxPooling2D(pool_size=(2, 2))(drop4)\n",
        "\n",
        "    # Bottom of the U-Net\n",
        "    conv5 = Conv2D(1024, 3, activation = 'relu', padding = 'same', kernel_initializer = 'random_normal')(pool4)\n",
        "    conv5 = Conv2D(1024, 3, activation = 'relu', padding = 'same', kernel_initializer = 'random_normal')(conv5)\n",
        "    conv5 = BatchNormalization()(conv5)\n",
        "    drop5 = Dropout(0.5)(conv5)\n",
        "\n",
        "    # Upsampling Starts, right side of the U-Net\n",
        "    up6 = Conv2D(512, 2, activation = 'relu', padding = 'same', kernel_initializer = 'random_normal')(UpSampling2D(size = (2,2))(drop5))\n",
        "    merge6 = concatenate([drop4,up6], axis = 3)\n",
        "    conv6 = Conv2D(512, 3, activation = 'relu', padding = 'same', kernel_initializer = 'random_normal')(merge6)\n",
        "    conv6 = Conv2D(512, 3, activation = 'relu', padding = 'same', kernel_initializer = 'random_normal')(conv6)\n",
        "    conv6 = BatchNormalization()(conv6)\n",
        "\n",
        "    up7 = Conv2D(256, 2, activation = 'relu', padding = 'same', kernel_initializer = 'random_normal')(UpSampling2D(size = (2,2))(conv6))\n",
        "    merge7 = concatenate([conv3,up7], axis = 3)\n",
        "    conv7 = Conv2D(256, 3, activation = 'relu', padding = 'same', kernel_initializer = 'random_normal')(merge7)\n",
        "    conv7 = Conv2D(256, 3, activation = 'relu', padding = 'same', kernel_initializer = 'random_normal')(conv7)\n",
        "    conv7 = BatchNormalization()(conv7)\n",
        "\n",
        "    up8 = Conv2D(128, 2, activation = 'relu', padding = 'same', kernel_initializer = 'random_normal')(UpSampling2D(size = (2,2))(conv7))\n",
        "    merge8 = concatenate([conv2,up8], axis = 3)\n",
        "    conv8 = Conv2D(128, 3, activation = 'relu', padding = 'same', kernel_initializer = 'random_normal')(merge8)\n",
        "    conv8 = Conv2D(128, 3, activation = 'relu', padding = 'same', kernel_initializer = 'random_normal')(conv8)\n",
        "    conv8 = BatchNormalization()(conv8)\n",
        "\n",
        "    up9 = Conv2D(64, 2, activation = 'relu', padding = 'same', kernel_initializer = 'random_normal')(UpSampling2D(size = (2,2))(conv8))\n",
        "    merge9 = concatenate([conv1,up9], axis = 3)\n",
        "    conv9 = Conv2D(64, 3, activation = 'relu', padding = 'same', kernel_initializer = 'random_normal')(merge9)\n",
        "    conv9 = Conv2D(64, 3, activation = 'relu', padding = 'same', kernel_initializer = 'random_normal')(conv9)\n",
        "    conv9 = Conv2D(16, 3, activation = 'relu', padding = 'same', kernel_initializer = 'random_normal')(conv9)\n",
        "    conv9 = BatchNormalization()(conv9)\n",
        "\n",
        "    # Output layer of the U-Net with a softmax activation\n",
        "    conv10 = Conv2D(9, 1, activation = 'softmax')(conv9)\n",
        "\n",
        "    model = Model(inputs = inputs, outputs = conv10)\n",
        "\n",
        "    model.compile(optimizer = Adam(lr = 0.0001), loss = 'categorical_crossentropy', metrics = ['accuracy'])\n",
        "\n",
        "    model.summary()\n",
        "\n",
        "    #filelist_modelweights = sorted(glob.glob('*.h5'), key=numericalSort)\n",
        "\n",
        "    #if 'model_nocropping.h5' in filelist_modelweights:\n",
        "     #   model.load_weights('model_nocropping.h5')\n",
        "    ##model.load_weights(\"model_onehot.h5\")\n",
        "    return model\n"
      ],
      "execution_count": null,
      "outputs": []
    },
    {
      "cell_type": "code",
      "metadata": {
        "colab": {
          "base_uri": "https://localhost:8080/"
        },
        "id": "eWcWN5o-0ho8",
        "outputId": "edf9be8c-e910-421f-d460-db3bb0e15de5"
      },
      "source": [
        "model = unet()"
      ],
      "execution_count": null,
      "outputs": [
        {
          "output_type": "stream",
          "text": [
            "Model: \"model\"\n",
            "__________________________________________________________________________________________________\n",
            "Layer (type)                    Output Shape         Param #     Connected to                     \n",
            "==================================================================================================\n",
            "input_1 (InputLayer)            [(None, None, None,  0                                            \n",
            "__________________________________________________________________________________________________\n",
            "conv2d (Conv2D)                 (None, None, None, 6 2368        input_1[0][0]                    \n",
            "__________________________________________________________________________________________________\n",
            "conv2d_1 (Conv2D)               (None, None, None, 6 36928       conv2d[0][0]                     \n",
            "__________________________________________________________________________________________________\n",
            "batch_normalization (BatchNorma (None, None, None, 6 256         conv2d_1[0][0]                   \n",
            "__________________________________________________________________________________________________\n",
            "max_pooling2d (MaxPooling2D)    (None, None, None, 6 0           batch_normalization[0][0]        \n",
            "__________________________________________________________________________________________________\n",
            "conv2d_2 (Conv2D)               (None, None, None, 1 73856       max_pooling2d[0][0]              \n",
            "__________________________________________________________________________________________________\n",
            "conv2d_3 (Conv2D)               (None, None, None, 1 147584      conv2d_2[0][0]                   \n",
            "__________________________________________________________________________________________________\n",
            "batch_normalization_1 (BatchNor (None, None, None, 1 512         conv2d_3[0][0]                   \n",
            "__________________________________________________________________________________________________\n",
            "max_pooling2d_1 (MaxPooling2D)  (None, None, None, 1 0           batch_normalization_1[0][0]      \n",
            "__________________________________________________________________________________________________\n",
            "conv2d_4 (Conv2D)               (None, None, None, 2 295168      max_pooling2d_1[0][0]            \n",
            "__________________________________________________________________________________________________\n",
            "conv2d_5 (Conv2D)               (None, None, None, 2 590080      conv2d_4[0][0]                   \n",
            "__________________________________________________________________________________________________\n",
            "batch_normalization_2 (BatchNor (None, None, None, 2 1024        conv2d_5[0][0]                   \n",
            "__________________________________________________________________________________________________\n",
            "max_pooling2d_2 (MaxPooling2D)  (None, None, None, 2 0           batch_normalization_2[0][0]      \n",
            "__________________________________________________________________________________________________\n",
            "conv2d_6 (Conv2D)               (None, None, None, 5 1180160     max_pooling2d_2[0][0]            \n",
            "__________________________________________________________________________________________________\n",
            "conv2d_7 (Conv2D)               (None, None, None, 5 2359808     conv2d_6[0][0]                   \n",
            "__________________________________________________________________________________________________\n",
            "batch_normalization_3 (BatchNor (None, None, None, 5 2048        conv2d_7[0][0]                   \n",
            "__________________________________________________________________________________________________\n",
            "dropout (Dropout)               (None, None, None, 5 0           batch_normalization_3[0][0]      \n",
            "__________________________________________________________________________________________________\n",
            "max_pooling2d_3 (MaxPooling2D)  (None, None, None, 5 0           dropout[0][0]                    \n",
            "__________________________________________________________________________________________________\n",
            "conv2d_8 (Conv2D)               (None, None, None, 1 4719616     max_pooling2d_3[0][0]            \n",
            "__________________________________________________________________________________________________\n",
            "conv2d_9 (Conv2D)               (None, None, None, 1 9438208     conv2d_8[0][0]                   \n",
            "__________________________________________________________________________________________________\n",
            "batch_normalization_4 (BatchNor (None, None, None, 1 4096        conv2d_9[0][0]                   \n",
            "__________________________________________________________________________________________________\n",
            "dropout_1 (Dropout)             (None, None, None, 1 0           batch_normalization_4[0][0]      \n",
            "__________________________________________________________________________________________________\n",
            "up_sampling2d (UpSampling2D)    (None, None, None, 1 0           dropout_1[0][0]                  \n",
            "__________________________________________________________________________________________________\n",
            "conv2d_10 (Conv2D)              (None, None, None, 5 2097664     up_sampling2d[0][0]              \n",
            "__________________________________________________________________________________________________\n",
            "concatenate (Concatenate)       (None, None, None, 1 0           dropout[0][0]                    \n",
            "                                                                 conv2d_10[0][0]                  \n",
            "__________________________________________________________________________________________________\n",
            "conv2d_11 (Conv2D)              (None, None, None, 5 4719104     concatenate[0][0]                \n",
            "__________________________________________________________________________________________________\n",
            "conv2d_12 (Conv2D)              (None, None, None, 5 2359808     conv2d_11[0][0]                  \n",
            "__________________________________________________________________________________________________\n",
            "batch_normalization_5 (BatchNor (None, None, None, 5 2048        conv2d_12[0][0]                  \n",
            "__________________________________________________________________________________________________\n",
            "up_sampling2d_1 (UpSampling2D)  (None, None, None, 5 0           batch_normalization_5[0][0]      \n",
            "__________________________________________________________________________________________________\n",
            "conv2d_13 (Conv2D)              (None, None, None, 2 524544      up_sampling2d_1[0][0]            \n",
            "__________________________________________________________________________________________________\n",
            "concatenate_1 (Concatenate)     (None, None, None, 5 0           batch_normalization_2[0][0]      \n",
            "                                                                 conv2d_13[0][0]                  \n",
            "__________________________________________________________________________________________________\n",
            "conv2d_14 (Conv2D)              (None, None, None, 2 1179904     concatenate_1[0][0]              \n",
            "__________________________________________________________________________________________________\n",
            "conv2d_15 (Conv2D)              (None, None, None, 2 590080      conv2d_14[0][0]                  \n",
            "__________________________________________________________________________________________________\n",
            "batch_normalization_6 (BatchNor (None, None, None, 2 1024        conv2d_15[0][0]                  \n",
            "__________________________________________________________________________________________________\n",
            "up_sampling2d_2 (UpSampling2D)  (None, None, None, 2 0           batch_normalization_6[0][0]      \n",
            "__________________________________________________________________________________________________\n",
            "conv2d_16 (Conv2D)              (None, None, None, 1 131200      up_sampling2d_2[0][0]            \n",
            "__________________________________________________________________________________________________\n",
            "concatenate_2 (Concatenate)     (None, None, None, 2 0           batch_normalization_1[0][0]      \n",
            "                                                                 conv2d_16[0][0]                  \n",
            "__________________________________________________________________________________________________\n",
            "conv2d_17 (Conv2D)              (None, None, None, 1 295040      concatenate_2[0][0]              \n",
            "__________________________________________________________________________________________________\n",
            "conv2d_18 (Conv2D)              (None, None, None, 1 147584      conv2d_17[0][0]                  \n",
            "__________________________________________________________________________________________________\n",
            "batch_normalization_7 (BatchNor (None, None, None, 1 512         conv2d_18[0][0]                  \n",
            "__________________________________________________________________________________________________\n",
            "up_sampling2d_3 (UpSampling2D)  (None, None, None, 1 0           batch_normalization_7[0][0]      \n",
            "__________________________________________________________________________________________________\n",
            "conv2d_19 (Conv2D)              (None, None, None, 6 32832       up_sampling2d_3[0][0]            \n",
            "__________________________________________________________________________________________________\n",
            "concatenate_3 (Concatenate)     (None, None, None, 1 0           batch_normalization[0][0]        \n",
            "                                                                 conv2d_19[0][0]                  \n",
            "__________________________________________________________________________________________________\n",
            "conv2d_20 (Conv2D)              (None, None, None, 6 73792       concatenate_3[0][0]              \n",
            "__________________________________________________________________________________________________\n",
            "conv2d_21 (Conv2D)              (None, None, None, 6 36928       conv2d_20[0][0]                  \n",
            "__________________________________________________________________________________________________\n",
            "conv2d_22 (Conv2D)              (None, None, None, 1 9232        conv2d_21[0][0]                  \n",
            "__________________________________________________________________________________________________\n",
            "batch_normalization_8 (BatchNor (None, None, None, 1 64          conv2d_22[0][0]                  \n",
            "__________________________________________________________________________________________________\n",
            "conv2d_23 (Conv2D)              (None, None, None, 9 153         batch_normalization_8[0][0]      \n",
            "==================================================================================================\n",
            "Total params: 31,053,225\n",
            "Trainable params: 31,047,433\n",
            "Non-trainable params: 5,792\n",
            "__________________________________________________________________________________________________\n"
          ],
          "name": "stdout"
        }
      ]
    },
    {
      "cell_type": "markdown",
      "metadata": {
        "id": "FvjrlsmH5eL-"
      },
      "source": [
        "#Training and testing the model"
      ]
    },
    {
      "cell_type": "code",
      "metadata": {
        "colab": {
          "base_uri": "https://localhost:8080/"
        },
        "id": "NNWdw-pcuOeZ",
        "outputId": "898d141a-fbfd-4fe7-e3e1-a17ef1bafc4c"
      },
      "source": [
        "history = model.fit(trainx, trainy_hot, epochs=20, validation_data = (testx, testy_hot),batch_size=64, verbose=1)\n",
        "model.save(\"model_onehot.h5\")"
      ],
      "execution_count": null,
      "outputs": [
        {
          "output_type": "stream",
          "text": [
            "Epoch 1/20\n",
            "249/249 [==============================] - 647s 2s/step - loss: 1.4644 - accuracy: 0.5412 - val_loss: 1.1385 - val_accuracy: 0.7083\n",
            "Epoch 2/20\n",
            "249/249 [==============================] - 564s 2s/step - loss: 0.8087 - accuracy: 0.7791 - val_loss: 0.6838 - val_accuracy: 0.7966\n",
            "Epoch 3/20\n",
            "249/249 [==============================] - 564s 2s/step - loss: 0.6538 - accuracy: 0.8126 - val_loss: 0.6711 - val_accuracy: 0.7942\n",
            "Epoch 4/20\n",
            "249/249 [==============================] - 564s 2s/step - loss: 0.5420 - accuracy: 0.8378 - val_loss: 0.7150 - val_accuracy: 0.7920\n",
            "Epoch 5/20\n",
            "249/249 [==============================] - 564s 2s/step - loss: 0.4715 - accuracy: 0.8524 - val_loss: 0.6214 - val_accuracy: 0.8058\n",
            "Epoch 6/20\n",
            "249/249 [==============================] - 564s 2s/step - loss: 0.4226 - accuracy: 0.8620 - val_loss: 0.6843 - val_accuracy: 0.8032\n",
            "Epoch 7/20\n",
            "249/249 [==============================] - 564s 2s/step - loss: 0.3759 - accuracy: 0.8737 - val_loss: 0.5890 - val_accuracy: 0.8105\n",
            "Epoch 8/20\n",
            "249/249 [==============================] - 564s 2s/step - loss: 0.3494 - accuracy: 0.8794 - val_loss: 0.6991 - val_accuracy: 0.8014\n",
            "Epoch 9/20\n",
            "249/249 [==============================] - 564s 2s/step - loss: 0.3165 - accuracy: 0.8883 - val_loss: 0.7183 - val_accuracy: 0.7969\n",
            "Epoch 10/20\n",
            "249/249 [==============================] - 564s 2s/step - loss: 0.2927 - accuracy: 0.8947 - val_loss: 0.5869 - val_accuracy: 0.8192\n",
            "Epoch 11/20\n",
            "249/249 [==============================] - 564s 2s/step - loss: 0.2736 - accuracy: 0.9003 - val_loss: 0.5789 - val_accuracy: 0.8176\n",
            "Epoch 12/20\n",
            "249/249 [==============================] - 564s 2s/step - loss: 0.2572 - accuracy: 0.9047 - val_loss: 0.7098 - val_accuracy: 0.8033\n",
            "Epoch 13/20\n",
            "249/249 [==============================] - 564s 2s/step - loss: 0.2381 - accuracy: 0.9111 - val_loss: 0.6566 - val_accuracy: 0.8098\n",
            "Epoch 14/20\n",
            "249/249 [==============================] - 564s 2s/step - loss: 0.2240 - accuracy: 0.9154 - val_loss: 0.6185 - val_accuracy: 0.8177\n",
            "Epoch 15/20\n",
            "249/249 [==============================] - 564s 2s/step - loss: 0.2118 - accuracy: 0.9193 - val_loss: 0.6224 - val_accuracy: 0.8149\n",
            "Epoch 16/20\n",
            "249/249 [==============================] - 564s 2s/step - loss: 0.1992 - accuracy: 0.9237 - val_loss: 0.7212 - val_accuracy: 0.8083\n",
            "Epoch 17/20\n",
            "249/249 [==============================] - 564s 2s/step - loss: 0.1860 - accuracy: 0.9284 - val_loss: 0.6481 - val_accuracy: 0.8184\n",
            "Epoch 18/20\n",
            "249/249 [==============================] - 564s 2s/step - loss: 0.1794 - accuracy: 0.9305 - val_loss: 0.6554 - val_accuracy: 0.8164\n",
            "Epoch 19/20\n",
            "249/249 [==============================] - 564s 2s/step - loss: 0.1678 - accuracy: 0.9347 - val_loss: 0.6583 - val_accuracy: 0.8153\n",
            "Epoch 20/20\n",
            "249/249 [==============================] - 564s 2s/step - loss: 0.1599 - accuracy: 0.9375 - val_loss: 0.6707 - val_accuracy: 0.8197\n"
          ],
          "name": "stdout"
        }
      ]
    },
    {
      "cell_type": "markdown",
      "metadata": {
        "id": "eUw7UMI7WIiC"
      },
      "source": [
        "####Accuracy and Loss plots for training and validation"
      ]
    },
    {
      "cell_type": "code",
      "metadata": {
        "colab": {
          "base_uri": "https://localhost:8080/",
          "height": 590
        },
        "id": "5Yd98ei8uS6R",
        "outputId": "40df7bca-1160-437b-8b86-a9982a5f02f6"
      },
      "source": [
        "# list all data in history\n",
        "print(history.history.keys())\n",
        "# summarize history for accuracy\n",
        "plt.plot(history.history['accuracy'])\n",
        "plt.plot(history.history['val_accuracy'])\n",
        "plt.title('Model accuracy')\n",
        "plt.ylabel('Accuracy')\n",
        "plt.xlabel('Epoch')\n",
        "plt.legend(['train', 'val'], loc='upper left')\n",
        "plt.savefig('acc_plot.png')\n",
        "plt.show()\n",
        "plt.close()\n",
        "# summarize history for loss\n",
        "plt.plot(history.history['loss'])\n",
        "plt.plot(history.history['val_loss'])\n",
        "plt.title('Model loss')\n",
        "plt.ylabel('Loss')\n",
        "plt.xlabel('Epoch')\n",
        "plt.legend(['train', 'val'], loc='upper right')\n",
        "plt.savefig('loss_plot.png')\n",
        "plt.show()\n",
        "plt.close()\n"
      ],
      "execution_count": null,
      "outputs": [
        {
          "output_type": "stream",
          "text": [
            "dict_keys(['loss', 'accuracy', 'val_loss', 'val_accuracy'])\n"
          ],
          "name": "stdout"
        },
        {
          "output_type": "display_data",
          "data": {
            "image/png": "[encoded data removed]",
            "text/plain": [
              "<Figure size 432x288 with 1 Axes>"
            ]
          },
          "metadata": {
            "tags": [],
            "needs_background": "light"
          }
        },
        {
          "output_type": "display_data",
          "data": {
            "image/png": "[encoded data removed]",
            "text/plain": [
              "<Figure size 432x288 with 1 Axes>"
            ]
          },
          "metadata": {
            "tags": [],
            "needs_background": "light"
          }
        }
      ]
    },
    {
      "cell_type": "code",
      "metadata": {
        "id": "5QKtfx-koCA8"
      },
      "source": [
        "# Slicing the image into crop_size*crop_size crops with a stride of crop_size/2 and makking list out of them\n",
        "\n",
        "def crops(a, crop_size = 128):\n",
        "\n",
        "    stride = 32\n",
        "\n",
        "    croped_images = []\n",
        "    h, w, c = a.shape\n",
        "\n",
        "    n_h = int(int(h/stride))\n",
        "    n_w = int(int(w/stride))\n",
        "\n",
        "    # Padding using the padding function we wrote\n",
        "    ##a = padding(a, w, h, c, crop_size, stride, n_h, n_w)\n",
        "\n",
        "    # Resizing as required\n",
        "    ##a = resize(a, stride, n_h, n_w)\n",
        "\n",
        "    # Adding pixals as required\n",
        "    a = add_pixals(a, h, w, c, n_h, n_w, crop_size, stride)\n",
        "\n",
        "    # Slicing the image into 128*128 crops with a stride of 64\n",
        "    for i in range(n_h-1):\n",
        "        for j in range(n_w-1):\n",
        "            crop_x = a[(i*stride):((i*stride)+crop_size), (j*stride):((j*stride)+crop_size), :]\n",
        "            croped_images.append(crop_x)\n",
        "    return croped_images\n"
      ],
      "execution_count": null,
      "outputs": []
    },
    {
      "cell_type": "markdown",
      "metadata": {
        "id": "ebp6RNr56KPa"
      },
      "source": [
        "#### Making array of all the training sat images as it is without any cropping\n"
      ]
    },
    {
      "cell_type": "code",
      "metadata": {
        "id": "qOqU_Aalo2Cl"
      },
      "source": [
        "xtrain_list = []\n",
        "\n",
        "for fname in filelist_trainx[:13]:\n",
        "\n",
        "    # Reading the image\n",
        "    tif = TIFF.open(fname)\n",
        "    image = tif.read_image()\n",
        "\n",
        "    crop_size = 128\n",
        "\n",
        "    stride = 32\n",
        "\n",
        "    h, w, c = image.shape\n",
        "\n",
        "    n_h = int(int(h/stride))\n",
        "    n_w = int(int(w/stride))\n",
        "\n",
        "\n",
        "    image = padding(image, w, h, c, crop_size, stride, n_h, n_w)\n",
        "\n",
        "    xtrain_list.append(image)\n"
      ],
      "execution_count": null,
      "outputs": []
    },
    {
      "cell_type": "markdown",
      "metadata": {
        "id": "bR0vkUHW6NNc"
      },
      "source": [
        "#### Making array of all the training gt images as it is without any cropping\n"
      ]
    },
    {
      "cell_type": "code",
      "metadata": {
        "id": "IZFU6yP3o74D"
      },
      "source": [
        "ytrain_list = []\n",
        "\n",
        "for fname in filelist_trainy[:13]:\n",
        "\n",
        "    # Reading the image\n",
        "    tif = TIFF.open(fname)\n",
        "    image = tif.read_image()\n",
        "\n",
        "    crop_size = 128\n",
        "\n",
        "    stride = 32\n",
        "\n",
        "    h, w, c = image.shape\n",
        "\n",
        "    n_h = int(int(h/stride))\n",
        "    n_w = int(int(w/stride))\n",
        "\n",
        "\n",
        "    image = padding(image, w, h, c, crop_size, stride, n_h, n_w)\n",
        "\n",
        "    ytrain_list.append(image)\n"
      ],
      "execution_count": null,
      "outputs": []
    },
    {
      "cell_type": "code",
      "metadata": {
        "colab": {
          "base_uri": "https://localhost:8080/"
        },
        "id": "I6u02pvAo8xI",
        "outputId": "25bc1992-fd8a-4d2a-d276-7d865ec9bee5"
      },
      "source": [
        "y_train = np.asarray(ytrain_list)\n",
        "x_train = np.asarray(xtrain_list)"
      ],
      "execution_count": null,
      "outputs": [
        {
          "output_type": "stream",
          "text": [
            "/usr/local/lib/python3.7/dist-packages/numpy/core/_asarray.py:83: VisibleDeprecationWarning: Creating an ndarray from ragged nested sequences (which is a list-or-tuple of lists-or-tuples-or ndarrays with different lengths or shapes) is deprecated. If you meant to do this, you must specify 'dtype=object' when creating the ndarray\n",
            "  return array(a, dtype, copy=False, order=order)\n"
          ],
          "name": "stderr"
        }
      ]
    },
    {
      "cell_type": "markdown",
      "metadata": {
        "id": "R5UyrHfJ6R7l"
      },
      "source": [
        "#### Making array of all the training sat images as it is without any cropping\n"
      ]
    },
    {
      "cell_type": "code",
      "metadata": {
        "id": "X0jwsWkPo_Mh"
      },
      "source": [
        "# Reading the image\n",
        "tif = TIFF.open(filelist_trainx[13])\n",
        "image = tif.read_image()\n",
        "\n",
        "crop_size = 128\n",
        "\n",
        "stride = 32\n",
        "\n",
        "h, w, c = image.shape\n",
        "\n",
        "n_h = int(int(h/stride))\n",
        "n_w = int(int(w/stride))\n",
        "\n",
        "image = add_pixals(image, h, w, c, n_h, n_w, crop_size, stride)\n",
        "\n",
        "#x_val = np.reshape(image, (1,h,w,c))\n",
        "x_val = image\n"
      ],
      "execution_count": null,
      "outputs": []
    },
    {
      "cell_type": "markdown",
      "metadata": {
        "id": "UMBSj73H6WOl"
      },
      "source": [
        "#### Making array of all the training gt images as it is without any cropping\n"
      ]
    },
    {
      "cell_type": "code",
      "metadata": {
        "id": "q5MS6caypFAh"
      },
      "source": [
        "# Reading the image\n",
        "tif = TIFF.open(filelist_trainy[13])\n",
        "image = tif.read_image()\n",
        "\n",
        "crop_size = 128\n",
        "\n",
        "stride = 32\n",
        "\n",
        "h, w, c = image.shape\n",
        "\n",
        "n_h = int(int(h/stride))\n",
        "n_w = int(int(w/stride))\n",
        "\n",
        "\n",
        "image = add_pixals(image, h, w, c, n_h, n_w, crop_size, stride)\n",
        "\n",
        "#y_val1 = np.reshape(image, (1,h,w,c))\n",
        "y_val = image"
      ],
      "execution_count": null,
      "outputs": []
    },
    {
      "cell_type": "code",
      "metadata": {
        "id": "kS7fceK2pJvg"
      },
      "source": [
        "xtest_list1 = []\n",
        "\n",
        "for fname in filelist_testx:\n",
        "\n",
        "    # Reading the image\n",
        "    tif = TIFF.open(fname)\n",
        "    image = tif.read_image()\n",
        "\n",
        "    crop_size = 128\n",
        "\n",
        "    stride = 32\n",
        "\n",
        "    h, w, c = image.shape\n",
        "\n",
        "    n_h = int(int(h/stride))\n",
        "    n_w = int(int(w/stride))\n",
        "\n",
        "\n",
        "    image = add_pixals(image, h, w, c, n_h, n_w, crop_size, stride)\n",
        "\n",
        "    xtest_list1.append(image)"
      ],
      "execution_count": null,
      "outputs": []
    },
    {
      "cell_type": "code",
      "metadata": {
        "id": "XraAdXZ6pMbP"
      },
      "source": [
        "def testing(model, trainx, trainy, testx, testy, weights_file = \"model_onehot.h5\"):\n",
        "\n",
        "    pred_train_all = []\n",
        "    pred_val_all = []\n",
        "\n",
        "    model.load_weights(weights_file)\n",
        "\n",
        "    Y_pred_train = model.predict(trainx)\n",
        "\n",
        "    for k in range(Y_pred_train.shape[0]):\n",
        "\n",
        "        pred_train_all.append(Y_pred_train[k])\n",
        "\n",
        "    Y_gt_train = [rgb_to_onehot(arr, color_dict) for arr in trainy]\n",
        "\n",
        "    Y_pred_val = model.predict(testx)\n",
        "\n",
        "    for k in range(Y_pred_val.shape[0]):\n",
        "\n",
        "        pred_val_all.append(Y_pred_val[k])\n",
        "\n",
        "    Y_gt_val = [rgb_to_onehot(arr, color_dict) for arr in testy]\n",
        "\n",
        "    return pred_train_all, Y_gt_train, pred_val_all, Y_gt_val"
      ],
      "execution_count": null,
      "outputs": []
    },
    {
      "cell_type": "code",
      "metadata": {
        "id": "IS6hDS4xpvZI"
      },
      "source": [
        "def testing_diffsizes(model, trainx, trainy, testx, testy, weights_file = \"model_augment.h5\"):\n",
        "\n",
        "    pred_train_all = []\n",
        "    pred_test_all = []\n",
        "\n",
        "\n",
        "    model.load_weights(weights_file)\n",
        "\n",
        "    for i in range(len(trainx)):\n",
        "        img = trainx[i]\n",
        "        h,w,c = img.shape\n",
        "        img = np.reshape(img, (1,h,w,c))\n",
        "        Y_pred_train = model.predict(img)\n",
        "        bb,h,w,c = Y_pred_train.shape\n",
        "        Y_pred_train = np.reshape(Y_pred_train, (h,w,c))\n",
        "        pred_train_all.append(Y_pred_train)\n",
        "\n",
        "#    for k in range(Y_pred_train.shape[0]):\n",
        "\n",
        "#        pred_train_all.append(Y_pred_train[k])\n",
        "\n",
        "    Y_gt_train = [rgb_to_onehot(arr, color_dict) for arr in trainy]\n",
        "\n",
        "    img = testx\n",
        "    h,w,c = img.shape\n",
        "    img = np.reshape(img, (1,h,w,c))\n",
        "    Y_pred_test = model.predict(img)\n",
        "    bb,h,w,c = Y_pred_test.shape\n",
        "    Y_pred_test = np.reshape(Y_pred_test, (h,w,c))\n",
        "    pred_test_all.append(Y_pred_test)\n",
        "\n",
        "#    for k in range(Y_pred_val.shape[0]):\n",
        "\n",
        "#        pred_test_all.append(Y_pred_val[k])\n",
        "\n",
        "    Y_gt_val = [rgb_to_onehot(testy, color_dict)]\n",
        "\n",
        "    return pred_train_all, Y_gt_train, pred_test_all, Y_gt_val"
      ],
      "execution_count": null,
      "outputs": []
    },
    {
      "cell_type": "code",
      "metadata": {
        "colab": {
          "base_uri": "https://localhost:8080/"
        },
        "id": "XW3h_vTHpxPV",
        "outputId": "0bc3fb36-b5ff-4c0a-dbd1-acb648eb80f0"
      },
      "source": [
        "##pred_train_all, Y_gt_train, pred_val_all, Y_gt_val = testing(model, trainx, trainy, testx, testy, weights_file = \"model_onehot.h5\")\n",
        "\n",
        "pred_train_3, Y_gt_train_3, pred_val_all, Y_gt_val = testing_diffsizes(model, x_train, y_train, x_val, y_val, weights_file = \"model_onehot.h5\")\n",
        "\n",
        "print(pred_val_all[0].shape)\n",
        "print(Y_gt_val[0].shape)"
      ],
      "execution_count": null,
      "outputs": [
        {
          "output_type": "stream",
          "text": [
            "(704, 864, 9)\n",
            "(704, 864, 9)\n"
          ],
          "name": "stdout"
        }
      ]
    },
    {
      "cell_type": "code",
      "metadata": {
        "id": "oxNllkGap11q"
      },
      "source": [
        "# Convert onehot to label\n",
        "def to_class_no(y_hot_list):\n",
        "    y_class_list = []\n",
        "\n",
        "    n = len(y_hot_list)\n",
        "\n",
        "    for i in range(n):\n",
        "\n",
        "        out = np.argmax(y_hot_list[i])\n",
        "\n",
        "        y_class_list.append(out)\n",
        "\n",
        "    return y_class_list"
      ],
      "execution_count": null,
      "outputs": []
    },
    {
      "cell_type": "markdown",
      "metadata": {
        "id": "WIKjvPOV6tVO"
      },
      "source": [
        "#Confusion matrix"
      ]
    },
    {
      "cell_type": "code",
      "metadata": {
        "id": "BsJU6nLkqAYH"
      },
      "source": [
        "def conf_matrix(Y_gt, Y_pred, num_classes = 9):\n",
        "\n",
        "    total_pixels = 0\n",
        "    kappa_sum = 0\n",
        "    sudo_confusion_matrix = np.zeros((num_classes, num_classes))\n",
        "\n",
        "#    if len(Y_pred.shape) == 3:\n",
        "#        h,w,c = Y_pred.shape\n",
        "#        Y_pred = np.reshape(Y_pred, (1,))\n",
        "\n",
        "    n = len(Y_pred)\n",
        "\n",
        "    for i in range(n):\n",
        "        y_pred = Y_pred[i]\n",
        "        y_gt = Y_gt[i]\n",
        "\n",
        "        #y_pred_hotcode = hotcode(y_pred)\n",
        "        #y_gt_hotcode = hotcode(y_gt)\n",
        "\n",
        "        pred = np.reshape(y_pred, (y_pred.shape[0]*y_pred.shape[1], y_pred.shape[2]))\n",
        "        gt = np.reshape(y_gt, (y_gt.shape[0]*y_gt.shape[1], y_gt.shape[2]))\n",
        "\n",
        "        pred = [i for i in pred]\n",
        "        gt = [i for i in gt]\n",
        "\n",
        "        pred = to_class_no(pred)\n",
        "        gt = to_class_no(gt)\n",
        "\n",
        "#        pred.tolist()\n",
        "#        gt.tolist()\n",
        "\n",
        "        gt = np.asarray(gt, dtype = 'int32')\n",
        "        pred = np.asarray(pred, dtype = 'int32')\n",
        "\n",
        "        conf_matrix = confusion_matrix(gt, pred, labels=[0,1,2,3,4,5,6,7,8])\n",
        "\n",
        "        kappa = cohen_kappa_score(gt,pred, labels=[0,1,2,3,4,5,6,7])\n",
        "\n",
        "        pixels = len(pred)\n",
        "        total_pixels = total_pixels+pixels\n",
        "\n",
        "        sudo_confusion_matrix = sudo_confusion_matrix + conf_matrix\n",
        "\n",
        "        kappa_sum = kappa_sum + kappa\n",
        "\n",
        "    final_confusion_matrix = sudo_confusion_matrix\n",
        "\n",
        "    final_kappa = kappa_sum/n\n",
        "\n",
        "    return final_confusion_matrix, final_kappa"
      ],
      "execution_count": null,
      "outputs": []
    },
    {
      "cell_type": "code",
      "metadata": {
        "colab": {
          "base_uri": "https://localhost:8080/"
        },
        "id": "zE5uPdakqLr-",
        "outputId": "d8f758cc-39ce-4bf9-b7a0-d170a632d554"
      },
      "source": [
        "confusion_matrix_train, kappa_train = conf_matrix(Y_gt_train_3, pred_train_3, num_classes = 9)\n",
        "print('Confusion Matrix for training')\n",
        "print(confusion_matrix_train)\n",
        "print('Kappa Coeff for training without unclassified pixels')\n",
        "print(kappa_train)\n",
        "\n",
        "confusion_matrix_test, kappa_test = conf_matrix(Y_gt_val, pred_val_all, num_classes = 9)\n",
        "print('Confusion Matrix for validation')\n",
        "print(confusion_matrix_test)\n",
        "print('Kappa Coeff for validation without unclassified pixels')\n",
        "print(kappa_test)\n"
      ],
      "execution_count": null,
      "outputs": [
        {
          "output_type": "stream",
          "text": [
            "Confusion Matrix for training\n",
            "[[5.067813e+06 2.931000e+03 4.290000e+02 7.800000e+02 1.032900e+04\n",
            "  9.010000e+02 1.900000e+02 0.000000e+00 4.327000e+04]\n",
            " [1.947000e+03 1.475129e+06 1.900000e+01 9.600000e+01 5.780000e+02\n",
            "  1.229000e+03 5.500000e+01 0.000000e+00 3.692200e+04]\n",
            " [1.680000e+02 4.030000e+02 1.654930e+05 9.000000e+00 4.700000e+01\n",
            "  9.500000e+01 0.000000e+00 0.000000e+00 3.069000e+03]\n",
            " [2.500000e+01 2.200000e+01 0.000000e+00 1.796070e+05 2.620000e+02\n",
            "  0.000000e+00 0.000000e+00 0.000000e+00 1.695000e+03]\n",
            " [9.218000e+03 9.640000e+02 2.200000e+01 2.180000e+02 3.762205e+06\n",
            "  1.620000e+02 7.000000e+00 0.000000e+00 8.151200e+04]\n",
            " [5.830000e+02 8.337000e+03 1.690000e+02 2.300000e+01 5.440000e+02\n",
            "  1.195257e+06 0.000000e+00 0.000000e+00 3.798800e+04]\n",
            " [3.380000e+02 2.320000e+02 0.000000e+00 0.000000e+00 4.000000e+01\n",
            "  0.000000e+00 8.889200e+05 0.000000e+00 6.170000e+03]\n",
            " [0.000000e+00 2.100000e+01 0.000000e+00 0.000000e+00 1.000000e+00\n",
            "  2.000000e+00 0.000000e+00 2.654900e+04 9.000000e+02]\n",
            " [2.522050e+05 2.625680e+05 4.301000e+03 1.065400e+04 2.205860e+05\n",
            "  4.694900e+04 1.027100e+04 7.180000e+02 6.288189e+06]]\n",
            "Kappa Coeff for training without unclassified pixels\n",
            "0.9954356531492983\n",
            "Confusion Matrix for validation\n",
            "[[7.63770e+04 1.73000e+02 0.00000e+00 0.00000e+00 5.35300e+03 0.00000e+00\n",
            "  2.50000e+01 0.00000e+00 1.86150e+04]\n",
            " [1.75000e+02 2.82620e+04 0.00000e+00 0.00000e+00 8.00000e+00 0.00000e+00\n",
            "  0.00000e+00 0.00000e+00 4.10900e+03]\n",
            " [0.00000e+00 0.00000e+00 0.00000e+00 0.00000e+00 0.00000e+00 0.00000e+00\n",
            "  0.00000e+00 0.00000e+00 0.00000e+00]\n",
            " [0.00000e+00 0.00000e+00 0.00000e+00 0.00000e+00 0.00000e+00 0.00000e+00\n",
            "  0.00000e+00 0.00000e+00 0.00000e+00]\n",
            " [2.11400e+03 1.49000e+02 0.00000e+00 0.00000e+00 1.22044e+05 0.00000e+00\n",
            "  7.00000e+00 0.00000e+00 8.82100e+03]\n",
            " [7.00000e+00 1.39200e+03 0.00000e+00 0.00000e+00 9.00000e+00 1.50800e+03\n",
            "  0.00000e+00 0.00000e+00 3.53500e+03]\n",
            " [2.60000e+01 3.00000e+00 0.00000e+00 0.00000e+00 0.00000e+00 0.00000e+00\n",
            "  1.98982e+05 0.00000e+00 2.93800e+03]\n",
            " [0.00000e+00 0.00000e+00 0.00000e+00 0.00000e+00 0.00000e+00 0.00000e+00\n",
            "  0.00000e+00 0.00000e+00 0.00000e+00]\n",
            " [1.40730e+04 6.25300e+03 0.00000e+00 0.00000e+00 2.91030e+04 6.30000e+01\n",
            "  6.99000e+03 0.00000e+00 7.71420e+04]]\n",
            "Kappa Coeff for validation without unclassified pixels\n",
            "0.967766506636609\n"
          ],
          "name": "stdout"
        }
      ]
    },
    {
      "cell_type": "markdown",
      "metadata": {
        "id": "fCDfa52sSAzl"
      },
      "source": [
        "#Particular class accuracy"
      ]
    },
    {
      "cell_type": "markdown",
      "metadata": {
        "id": "y_hS3Ewb6znz"
      },
      "source": [
        "#### Pass Confusion matrix, label to which the accuracy needs to be found, number of classes to be considered\n"
      ]
    },
    {
      "cell_type": "code",
      "metadata": {
        "id": "vjkdIryTqMTl"
      },
      "source": [
        "def acc_of_class(class_label, conf_matrix, num_classes = 8):\n",
        "\n",
        "    numerator = conf_matrix[class_label, class_label]\n",
        "\n",
        "    denorminator = 0\n",
        "\n",
        "    for i in range(num_classes):\n",
        "        denorminator = denorminator + conf_matrix[class_label, i]\n",
        "\n",
        "    acc_of_class = numerator/denorminator\n",
        "\n",
        "    return acc_of_class\n"
      ],
      "execution_count": null,
      "outputs": []
    },
    {
      "cell_type": "markdown",
      "metadata": {
        "id": "SnSUPyx8twG0"
      },
      "source": [
        "## On training"
      ]
    },
    {
      "cell_type": "markdown",
      "metadata": {
        "id": "EYUjRwsztyBb"
      },
      "source": [
        "#### Find accuray of all the classes NOT considering the unclassified pixels"
      ]
    },
    {
      "cell_type": "code",
      "metadata": {
        "colab": {
          "base_uri": "https://localhost:8080/"
        },
        "id": "yGfXTgb2qQCY",
        "outputId": "21b2e6d7-103f-4772-a84f-2c4fa8ce32ba"
      },
      "source": [
        "for i in range(8):\n",
        "    acc_of_cl = acc_of_class(class_label = i, conf_matrix = confusion_matrix_train, num_classes = 8)\n",
        "    print('Accuracy of class '+str(i) + ' WITHOUT unclassified pixels - Training')\n",
        "    print(acc_of_cl)"
      ],
      "execution_count": null,
      "outputs": [
        {
          "output_type": "stream",
          "text": [
            "Accuracy of class 0 WITHOUT unclassified pixels - Training\n",
            "0.9969390402789644\n",
            "Accuracy of class 1 WITHOUT unclassified pixels - Training\n",
            "0.9973469510558445\n",
            "Accuracy of class 2 WITHOUT unclassified pixels - Training\n",
            "0.9956562283789069\n",
            "Accuracy of class 3 WITHOUT unclassified pixels - Training\n",
            "0.9982825318481958\n",
            "Accuracy of class 4 WITHOUT unclassified pixels - Training\n",
            "0.9971927981263763\n",
            "Accuracy of class 5 WITHOUT unclassified pixels - Training\n",
            "0.991986143397905\n",
            "Accuracy of class 6 WITHOUT unclassified pixels - Training\n",
            "0.9993142446010814\n",
            "Accuracy of class 7 WITHOUT unclassified pixels - Training\n",
            "0.9990968276069695\n"
          ],
          "name": "stdout"
        }
      ]
    },
    {
      "cell_type": "markdown",
      "metadata": {
        "id": "oqwSyOn1tsNc"
      },
      "source": [
        "#### Find accuray of all the classes considering the unclassified pixels"
      ]
    },
    {
      "cell_type": "code",
      "metadata": {
        "colab": {
          "base_uri": "https://localhost:8080/"
        },
        "id": "y7Q7VHEhqWxz",
        "outputId": "1debeaab-5df4-40c6-8cb6-0964d95bb230"
      },
      "source": [
        "for i in range(9):\n",
        "    acc_of_cl = acc_of_class(class_label = i, conf_matrix = confusion_matrix_train, num_classes = 9)\n",
        "    print('Accuracy of class '+str(i) + ' WITH unclassified pixels - Training')\n",
        "    print(acc_of_cl)"
      ],
      "execution_count": null,
      "outputs": [
        {
          "output_type": "stream",
          "text": [
            "Accuracy of class 0 WITH unclassified pixels - Training\n",
            "0.9885246544376115\n",
            "Accuracy of class 1 WITH unclassified pixels - Training\n",
            "0.9730562839096951\n",
            "Accuracy of class 2 WITH unclassified pixels - Training\n",
            "0.9776056803950758\n",
            "Accuracy of class 3 WITH unclassified pixels - Training\n",
            "0.9889654261030444\n",
            "Accuracy of class 4 WITH unclassified pixels - Training\n",
            "0.9761038816825225\n",
            "Accuracy of class 5 WITH unclassified pixels - Training\n",
            "0.9616670997931452\n",
            "Accuracy of class 6 WITH unclassified pixels - Training\n",
            "0.992430501283912\n",
            "Accuracy of class 7 WITH unclassified pixels - Training\n",
            "0.96636697848797\n",
            "Accuracy of class 8 WITH unclassified pixels - Training\n",
            "0.8861045980654246\n"
          ],
          "name": "stdout"
        }
      ]
    },
    {
      "cell_type": "markdown",
      "metadata": {
        "id": "t6hZo6YOtiTB"
      },
      "source": [
        "## On validation\n"
      ]
    },
    {
      "cell_type": "markdown",
      "metadata": {
        "id": "wajd_szztkUY"
      },
      "source": [
        "#### Find accuray of all the classes NOT considering the unclassified pixels"
      ]
    },
    {
      "cell_type": "code",
      "metadata": {
        "colab": {
          "base_uri": "https://localhost:8080/"
        },
        "id": "8pPcXNB7qYtl",
        "outputId": "b624e6ca-5015-4c5e-f24f-840c669ef52a"
      },
      "source": [
        "for i in range(8):\n",
        "    acc_of_cl = acc_of_class(class_label = i, conf_matrix = confusion_matrix_test, num_classes = 8)\n",
        "    print('Accuracy of class '+str(i) + ' WITHOUT unclassified pixels - Validation')\n",
        "    print(acc_of_cl)\n"
      ],
      "execution_count": null,
      "outputs": [
        {
          "output_type": "stream",
          "text": [
            "Accuracy of class 0 WITHOUT unclassified pixels - Validation\n",
            "0.9322453861927547\n",
            "Accuracy of class 1 WITHOUT unclassified pixels - Validation\n",
            "0.9935665319036737\n",
            "Accuracy of class 2 WITHOUT unclassified pixels - Validation\n",
            "nan\n",
            "Accuracy of class 3 WITHOUT unclassified pixels - Validation\n",
            "nan\n",
            "Accuracy of class 4 WITHOUT unclassified pixels - Validation\n",
            "0.9817397879563042\n",
            "Accuracy of class 5 WITHOUT unclassified pixels - Validation\n",
            "0.5171467764060357\n",
            "Accuracy of class 6 WITHOUT unclassified pixels - Validation\n",
            "0.9998542794116908\n",
            "Accuracy of class 7 WITHOUT unclassified pixels - Validation\n",
            "nan\n"
          ],
          "name": "stdout"
        },
        {
          "output_type": "stream",
          "text": [
            "/usr/local/lib/python3.7/dist-packages/ipykernel_launcher.py:10: RuntimeWarning: invalid value encountered in double_scalars\n",
            "  # Remove the CWD from sys.path while we load stuff.\n"
          ],
          "name": "stderr"
        }
      ]
    },
    {
      "cell_type": "markdown",
      "metadata": {
        "id": "cQhN48ExteXZ"
      },
      "source": [
        "#### Find accuray of all the classes considering the unclassified pixels"
      ]
    },
    {
      "cell_type": "code",
      "metadata": {
        "colab": {
          "base_uri": "https://localhost:8080/"
        },
        "id": "nx1GJXbkqaTV",
        "outputId": "2198abd3-5990-418f-8bec-9f2da2938811"
      },
      "source": [
        "for i in range(9):\n",
        "    acc_of_cl = acc_of_class(class_label = i, conf_matrix = confusion_matrix_test, num_classes = 9)\n",
        "    print('Accuracy of class '+str(i) + ' WITH unclassified pixels - Validation')\n",
        "    print(acc_of_cl)"
      ],
      "execution_count": null,
      "outputs": [
        {
          "output_type": "stream",
          "text": [
            "Accuracy of class 0 WITH unclassified pixels - Validation\n",
            "0.7596451269606039\n",
            "Accuracy of class 1 WITH unclassified pixels - Validation\n",
            "0.8681575228850525\n",
            "Accuracy of class 2 WITH unclassified pixels - Validation\n",
            "nan\n",
            "Accuracy of class 3 WITH unclassified pixels - Validation\n",
            "nan\n",
            "Accuracy of class 4 WITH unclassified pixels - Validation\n",
            "0.9166935817027829\n",
            "Accuracy of class 5 WITH unclassified pixels - Validation\n",
            "0.2337622074097039\n",
            "Accuracy of class 6 WITH unclassified pixels - Validation\n",
            "0.9853081718651738\n",
            "Accuracy of class 7 WITH unclassified pixels - Validation\n",
            "nan\n",
            "Accuracy of class 8 WITH unclassified pixels - Validation\n",
            "0.577306471891277\n"
          ],
          "name": "stdout"
        },
        {
          "output_type": "stream",
          "text": [
            "/usr/local/lib/python3.7/dist-packages/ipykernel_launcher.py:10: RuntimeWarning: invalid value encountered in double_scalars\n",
            "  # Remove the CWD from sys.path while we load stuff.\n"
          ],
          "name": "stderr"
        }
      ]
    },
    {
      "cell_type": "markdown",
      "metadata": {
        "id": "V23rg7R9SJ2C"
      },
      "source": [
        "#Overall accuracy"
      ]
    },
    {
      "cell_type": "markdown",
      "metadata": {
        "id": "lXSgrqiYtX8m"
      },
      "source": [
        "### Calulating over all accuracy with and without unclassified pixels"
      ]
    },
    {
      "cell_type": "code",
      "metadata": {
        "id": "CnUPDCsbqcx1"
      },
      "source": [
        "def overall_acc(conf_matrix, include_unclassified_pixels = False):\n",
        "\n",
        "    if include_unclassified_pixels:\n",
        "\n",
        "        numerator = 0\n",
        "        for i in range(9):\n",
        "\n",
        "            numerator = numerator + conf_matrix[i,i]\n",
        "\n",
        "        denominator = 0\n",
        "        for i in range(9):\n",
        "            for j in range(9):\n",
        "\n",
        "                denominator = denominator + conf_matrix[i,j]\n",
        "\n",
        "        acc = numerator/denominator\n",
        "\n",
        "        return acc\n",
        "\n",
        "    else:\n",
        "\n",
        "        numerator = 0\n",
        "        for i in range(8):\n",
        "\n",
        "            numerator = numerator + conf_matrix[i,i]\n",
        "\n",
        "        denominator = 0\n",
        "        for i in range(8):\n",
        "            for j in range(8):\n",
        "\n",
        "                denominator = denominator + conf_matrix[i,j]\n",
        "\n",
        "        acc = numerator/denominator\n",
        "\n",
        "        return acc\n"
      ],
      "execution_count": null,
      "outputs": []
    },
    {
      "cell_type": "markdown",
      "metadata": {
        "id": "m9J1tE1LtP4O"
      },
      "source": [
        "## Training\n"
      ]
    },
    {
      "cell_type": "markdown",
      "metadata": {
        "id": "BTYZ2TxXtRwy"
      },
      "source": [
        "#### Over all accuracy without unclassified pixels"
      ]
    },
    {
      "cell_type": "code",
      "metadata": {
        "colab": {
          "base_uri": "https://localhost:8080/"
        },
        "id": "GJt2VwxfqfPy",
        "outputId": "36e2fa34-da37-4b8f-fa91-aeceb3baad30"
      },
      "source": [
        "print('Over all accuracy WITHOUT unclassified pixels - Training')\n",
        "print(overall_acc(conf_matrix = confusion_matrix_train, include_unclassified_pixels = False))\n"
      ],
      "execution_count": null,
      "outputs": [
        {
          "output_type": "stream",
          "text": [
            "Over all accuracy WITHOUT unclassified pixels - Training\n",
            "0.9967665359434649\n"
          ],
          "name": "stdout"
        }
      ]
    },
    {
      "cell_type": "markdown",
      "metadata": {
        "id": "ik_h1dZgtMdO"
      },
      "source": [
        "#### Over all accuracy with unclassified pixels"
      ]
    },
    {
      "cell_type": "code",
      "metadata": {
        "colab": {
          "base_uri": "https://localhost:8080/"
        },
        "id": "cbK3LCzeqgwh",
        "outputId": "9d897e1a-362f-4c29-fddd-645424f460b4"
      },
      "source": [
        "print('Over all accuracy WITH unclassified pixels - Training')\n",
        "print(overall_acc(conf_matrix = confusion_matrix_train, include_unclassified_pixels = True))\n"
      ],
      "execution_count": null,
      "outputs": [
        {
          "output_type": "stream",
          "text": [
            "Over all accuracy WITH unclassified pixels - Training\n",
            "0.9472324082501655\n"
          ],
          "name": "stdout"
        }
      ]
    },
    {
      "cell_type": "markdown",
      "metadata": {
        "id": "kGTGLWBqtD1R"
      },
      "source": [
        "## Validation\n"
      ]
    },
    {
      "cell_type": "markdown",
      "metadata": {
        "id": "uCGnOD96tGZb"
      },
      "source": [
        "\n",
        "#### Over all accuracy without unclassified pixels"
      ]
    },
    {
      "cell_type": "code",
      "metadata": {
        "colab": {
          "base_uri": "https://localhost:8080/"
        },
        "id": "3QQ6gyjiqjql",
        "outputId": "ab77e64f-5220-48e7-b26b-211c99cc84b1"
      },
      "source": [
        "print('Over all accuracy WITHOUT unclassified pixels - Validation')\n",
        "print(overall_acc(conf_matrix = confusion_matrix_test, include_unclassified_pixels = False))"
      ],
      "execution_count": null,
      "outputs": [
        {
          "output_type": "stream",
          "text": [
            "Over all accuracy WITHOUT unclassified pixels - Validation\n",
            "0.9783767813217167\n"
          ],
          "name": "stdout"
        }
      ]
    },
    {
      "cell_type": "markdown",
      "metadata": {
        "id": "5zL3c7UJs6_Q"
      },
      "source": [
        "#### Over all accuracy with unclassified pixels"
      ]
    },
    {
      "cell_type": "code",
      "metadata": {
        "colab": {
          "base_uri": "https://localhost:8080/"
        },
        "id": "obU5m0ouql-K",
        "outputId": "986c0a4f-9912-413e-8de5-a6e8399f1134"
      },
      "source": [
        "print('Over all accuracy WITH unclassified pixels - Validation')\n",
        "print(overall_acc(conf_matrix = confusion_matrix_test, include_unclassified_pixels = True))\n"
      ],
      "execution_count": null,
      "outputs": [
        {
          "output_type": "stream",
          "text": [
            "Over all accuracy WITH unclassified pixels - Validation\n",
            "0.8291163589015151\n"
          ],
          "name": "stdout"
        }
      ]
    },
    {
      "cell_type": "markdown",
      "metadata": {
        "id": "3SEUeBeSCgu8"
      },
      "source": [
        "#### Convert decimal onehot encode from prediction to actual onehot code\n"
      ]
    },
    {
      "cell_type": "code",
      "metadata": {
        "id": "Ob1VwYZqqpA7"
      },
      "source": [
        "def dec_to_onehot(pred_all):\n",
        "\n",
        "    pred_all_onehot_list = []\n",
        "\n",
        "    for img in pred_all:\n",
        "\n",
        "        h, w, c = img.shape\n",
        "\n",
        "        for i in range(h):\n",
        "            for j in range(w):\n",
        "\n",
        "                argmax_index = np.argmax(img[i,j])\n",
        "\n",
        "                sudo_onehot_arr = np.zeros((9))\n",
        "\n",
        "                sudo_onehot_arr[argmax_index] = 1\n",
        "\n",
        "                onehot_encode = sudo_onehot_arr\n",
        "\n",
        "                img[i,j,:] = onehot_encode\n",
        "\n",
        "        pred_all_onehot_list.append[img]\n",
        "\n",
        "    return pred_all_onehot_list\n"
      ],
      "execution_count": null,
      "outputs": []
    },
    {
      "cell_type": "markdown",
      "metadata": {
        "id": "bbGtZqHEsxn5"
      },
      "source": [
        "# Pred on train, val, test and save outputs"
      ]
    },
    {
      "cell_type": "code",
      "metadata": {
        "id": "7vsqclRJq0ac"
      },
      "source": [
        "weights_file = \"model_onehot.h5\"\n",
        "model.load_weights(weights_file)\n",
        "\n",
        "#y_pred_test_all = []\n",
        "\n",
        "xtrain_list.append(x_val)\n",
        "\n",
        "for i_ in range(len(xtrain_list)):\n",
        "\n",
        "    item = xtrain_list[i_]\n",
        "\n",
        "    h,w,c = item.shape\n",
        "\n",
        "    item = np.reshape(item,(1,h,w,c))\n",
        "\n",
        "    y_pred_train_img = model.predict(item)\n",
        "\n",
        "    ba,h,w,c = y_pred_train_img.shape\n",
        "\n",
        "    y_pred_train_img = np.reshape(y_pred_train_img,(h,w,c))\n",
        "\n",
        "    img = y_pred_train_img\n",
        "    h, w, c = img.shape\n",
        "\n",
        "    for i in range(h):\n",
        "        for j in range(w):\n",
        "\n",
        "            argmax_index = np.argmax(img[i,j])\n",
        "\n",
        "            sudo_onehot_arr = np.zeros((9))\n",
        "\n",
        "            sudo_onehot_arr[argmax_index] = 1\n",
        "\n",
        "            onehot_encode = sudo_onehot_arr\n",
        "\n",
        "            img[i,j,:] = onehot_encode\n",
        "\n",
        "    y_pred_train_img = onehot_to_rgb(img, color_dict)\n",
        "\n",
        "    tif = TIFF.open(filelist_trainx[i_])\n",
        "    image2 = tif.read_image()\n",
        "\n",
        "    h,w,c = image2.shape\n",
        "\n",
        "    y_pred_train_img = y_pred_train_img[:h, :w, :]\n",
        "\n",
        "    imx = Image.fromarray(y_pred_train_img)\n",
        "\n",
        "    imx.save(\"/content/drive/My Drive/dataset/pred/pred\"+str(i_+1)+\".jpg\")\n",
        "\n",
        "\n",
        "\n",
        "for i_ in range(len(xtest_list1)):\n",
        "\n",
        "    item = xtest_list1[i_]\n",
        "\n",
        "    h,w,c = item.shape\n",
        "\n",
        "    item = np.reshape(item,(1,h,w,c))\n",
        "\n",
        "    y_pred_test_img = model.predict(item)\n",
        "\n",
        "    ba,h,w,c = y_pred_test_img.shape\n",
        "\n",
        "    y_pred_test_img = np.reshape(y_pred_test_img,(h,w,c))\n",
        "\n",
        "    img = y_pred_test_img\n",
        "    h, w, c = img.shape\n",
        "\n",
        "    for i in range(h):\n",
        "        for j in range(w):\n",
        "\n",
        "            argmax_index = np.argmax(img[i,j])\n",
        "\n",
        "            sudo_onehot_arr = np.zeros((9))\n",
        "\n",
        "            sudo_onehot_arr[argmax_index] = 1\n",
        "\n",
        "            onehot_encode = sudo_onehot_arr\n",
        "\n",
        "            img[i,j,:] = onehot_encode\n",
        "\n",
        "    y_pred_test_img = onehot_to_rgb(img, color_dict)\n",
        "\n",
        "    tif = TIFF.open(filelist_testx[i_])\n",
        "    image2 = tif.read_image()\n",
        "\n",
        "    h,w,c = image2.shape\n",
        "\n",
        "    y_pred_test_img = y_pred_test_img[:h, :w, :]\n",
        "\n",
        "    imx = Image.fromarray(y_pred_test_img)\n",
        "\n",
        "    imx.save(\"/content/drive/My Drive/dataset/out/out\"+str(i_+1)+\".jpg\")"
      ],
      "execution_count": null,
      "outputs": []
    }
  ]
}